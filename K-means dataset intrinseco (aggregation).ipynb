{
 "cells": [
  {
   "cell_type": "markdown",
   "source": [
    "\"\"\"  #    \n",
    "Bloque de introducción\n",
    "\n",
    "\"\"\"  #"
   ],
   "metadata": {
    "collapsed": false
   }
  },
  {
   "cell_type": "markdown",
   "source": [
    "# Datasets\n",
    "## Preparación\n",
    "### Librerías"
   ],
   "metadata": {
    "collapsed": false
   }
  },
  {
   "cell_type": "code",
   "execution_count": null,
   "outputs": [],
   "source": [
    "import matplotlib.pyplot as plt\n",
    "import numpy as np\n",
    "import pandas as pd\n",
    "import seaborn as sns\n",
    "from sklearn import metrics\n",
    "from sklearn.cluster import KMeans"
   ],
   "metadata": {
    "collapsed": false,
    "pycharm": {
     "name": "#%%\n"
    }
   }
  },
  {
   "cell_type": "markdown",
   "source": [
    "\"\"\"  #    \n",
    "### Función de descarga\n",
    "blablabla\n",
    "\n",
    "\"\"\"  #"
   ],
   "metadata": {
    "collapsed": false
   }
  },
  {
   "cell_type": "code",
   "execution_count": null,
   "outputs": [],
   "source": [
    "def load_dataset(dataset_url: str, separator: str = '\\s+', class_position: int = None, remove: list = None):\n",
    "    \"\"\"Load a dataset from a specified url into a pandas DataFrame.\n",
    "\n",
    "    :param str dataset_url: an url from archive.ics.uci.edu\n",
    "    :param str separator: file separator.\n",
    "    :param int class_position: column index where classes are defined (starts by 0)\n",
    "       if left empty (None), no prediction class will be used (intrinsic case).\n",
    "    :param list remove: attributes indexes to remove.\n",
    "    \"\"\"\n",
    "    # Load dataset as a pandas DataFrame from a specified url.\n",
    "    dataset = pd.read_csv(dataset_url, sep=separator, header=None)\n",
    "\n",
    "    # Extrinsic case, dataset comes with its classes.\n",
    "    if class_position is not None:\n",
    "        # Extract classes.\n",
    "        classes = dataset.iloc[:, class_position]\n",
    "        # Add class index to the indexes to remove.\n",
    "        remove = [class_position] if remove is None else remove + [class_position]\n",
    "\n",
    "    # Intrinsic case, dataset has no classes.\n",
    "    else:\n",
    "        classes = None\n",
    "\n",
    "    # Remove noise attributes.\n",
    "    if remove is not None:\n",
    "        dataset.drop(remove, axis=1, inplace=True)\n",
    "\n",
    "    # Force all values to be numeric.\n",
    "    for (column, values) in dataset.iteritems():\n",
    "        # Coerce transforms non-numeric values into NaN.\n",
    "        dataset[column] = pd.to_numeric(values, errors='coerce')\n",
    "\n",
    "    # Remove all NaN rows.\n",
    "    # TODO: this might result in different classes vs attribute sizes. To be reviewed.\n",
    "    dataset.dropna(inplace=True)\n",
    "\n",
    "    return classes, dataset\n"
   ],
   "metadata": {
    "collapsed": false,
    "pycharm": {
     "name": "#%%\n"
    }
   }
  },
  {
   "cell_type": "markdown",
   "source": [
    "\"\"\"  #    \n",
    "### Función de visualización\n",
    "blablabla    \n",
    "la idea es que esta función sea parametrizable y que pueda colorear los clusters\n",
    "\n",
    "\"\"\"  #\n"
   ],
   "metadata": {
    "collapsed": false
   }
  },
  {
   "cell_type": "code",
   "execution_count": null,
   "outputs": [],
   "source": [
    "def plot_dataset(dataset: pd.DataFrame, classes: np.array = None) -> None:\n",
    "    if classes is not None:\n",
    "        # Clone dataset to avoid modifying the original one.\n",
    "        dataset = dataset.copy()\n",
    "        dataset['classes'] = classes\n",
    "        sns.pairplot(dataset, hue='classes')\n",
    "    else:\n",
    "        sns.pairplot(dataset)\n"
   ],
   "metadata": {
    "collapsed": false,
    "pycharm": {
     "name": "#%%\n"
    }
   }
  },
  {
   "cell_type": "markdown",
   "source": [
    "## Selección"
   ],
   "metadata": {
    "collapsed": false
   }
  },
  {
   "cell_type": "markdown",
   "source": [
    "\"\"\"  #    \n",
    "### Dataset extrínseca\n",
    "los cilindros están en posición 1 (partiendo de 0)\n",
    "no los he eliminado para que veamos el hue\n",
    "\n",
    "\"\"\"  #"
   ],
   "metadata": {
    "collapsed": false
   }
  },
  {
   "cell_type": "code",
   "execution_count": null,
   "outputs": [],
   "source": [
    "dataset_url = 'https://archive.ics.uci.edu/ml/machine-learning-databases/auto-mpg/auto-mpg.data'\n",
    "extrinsic_classes, extrinsic_dataset = load_dataset(dataset_url, class_position=1, remove=[7, 8])"
   ],
   "metadata": {
    "collapsed": false,
    "pycharm": {
     "name": "#%%\n"
    }
   }
  },
  {
   "cell_type": "code",
   "execution_count": null,
   "outputs": [],
   "source": [
    "plot_dataset(extrinsic_dataset, extrinsic_classes)"
   ],
   "metadata": {
    "collapsed": false,
    "pycharm": {
     "name": "#%%\n"
    }
   }
  },
  {
   "cell_type": "markdown",
   "source": [
    "\"\"\"  #    \n",
    "blablabla\n",
    "\n",
    "\"\"\"  #"
   ],
   "metadata": {
    "collapsed": false
   }
  },
  {
   "cell_type": "markdown",
   "source": [
    "\"\"\"  #    \n",
    "## Dataset intrínseca\n",
    "El dataset intrínseca **Aggregations** está generado de manera artificial por: *A. Gionis, H. Mannila, and P. Tsaparas, Clustering aggregation. ACM Transactions on Knowledge Discovery from Data (TKDD), 2007*\n",
    "\n",
    "\n",
    "Este dataset está compuesto por 788 observaciones de 2 variables que abarcan un amplio rango numérico. En el conjunto de datos existen entre 5 a 7 grupos que se distribuyen en zonas particulares del rango de valores de las variables.\n",
    "\n",
    "\n",
    "Cargamos nuestro dataset (*intrinsic_dataset*):\n",
    "\n",
    "\"\"\"  #"
   ],
   "metadata": {
    "collapsed": false
   }
  },
  {
   "cell_type": "code",
   "execution_count": null,
   "outputs": [],
   "source": [
    "dataset_url = 'http://cs.joensuu.fi/sipu/datasets/Aggregation.txt'\n",
    "_, intrinsic_dataset = load_dataset(dataset_url, remove=[2])"
   ],
   "metadata": {
    "collapsed": false,
    "pycharm": {
     "name": "#%%\n"
    }
   }
  },
  {
   "cell_type": "markdown",
   "source": [
    "\"\"\"  #    \n",
    "Podemos ver la relación siguiente entre atríbutos:\n",
    "\n",
    "\"\"\"  #"
   ],
   "metadata": {
    "collapsed": false
   }
  },
  {
   "cell_type": "code",
   "execution_count": null,
   "outputs": [],
   "source": [
    "plot_dataset(intrinsic_dataset)"
   ],
   "metadata": {
    "collapsed": false,
    "pycharm": {
     "name": "#%%\n"
    }
   }
  },
  {
   "cell_type": "markdown",
   "source": [
    "\"\"\"  #    \n",
    "blablabla\n",
    "\n",
    "\"\"\"  #"
   ],
   "metadata": {
    "collapsed": false
   }
  },
  {
   "cell_type": "markdown",
   "source": [
    "\"\"\"  #    \n",
    "# Algoritmos\n",
    "Preparamos funciones 'herramienta' para cada algoritmo de forma a poder analizarlos.\n",
    "\n",
    "\"\"\"  #"
   ],
   "metadata": {
    "collapsed": false
   }
  },
  {
   "cell_type": "markdown",
   "source": [
    "## K-Means"
   ],
   "metadata": {
    "collapsed": false
   }
  },
  {
   "cell_type": "markdown",
   "source": [
    "\"\"\"  #    \n",
    "Métrica R cadrado. No usamos directamente la de sklean al esta necesitar la clases reales.\n",
    "Nos permite valorar el ratio de distancia intraclúster con respecto a la distancia interclúster.\n",
    "\n",
    "\"\"\"  #\n"
   ],
   "metadata": {
    "collapsed": false
   }
  },
  {
   "cell_type": "code",
   "execution_count": null,
   "outputs": [],
   "source": [
    "def r2_score(dataset, prediction, centroids):\n",
    "    \"\"\"\n",
    "    An intrinsic R² score metric, as sklearn one is extrinsic only.\n",
    "    \"\"\"\n",
    "    attributes_mean = np.mean(dataset, axis=0)\n",
    "    labels = np.sort(np.unique(prediction))\n",
    "    numerator = np.sum([\n",
    "        np.sum(np.sum(dataset[prediction == label] - centroids[label], axis=1) ** 2)\n",
    "        for label in labels\n",
    "    ])\n",
    "    denominator = np.sum(np.sum(dataset - attributes_mean, 1) ** 2)\n",
    "\n",
    "    return 1 - numerator / denominator\n"
   ],
   "metadata": {
    "collapsed": false,
    "pycharm": {
     "name": "#%%\n"
    }
   }
  },
  {
   "cell_type": "markdown",
   "source": [
    "\"\"\"  #    \n",
    "Función para generar gráficamente la evolución de las métricas R² y Silueta según el número de cluters, de forma a escoger el número de clusters óptimo, usando la técnica del codo.\n",
    "\n",
    "\"\"\"  #\n"
   ],
   "metadata": {
    "collapsed": false
   }
  },
  {
   "cell_type": "code",
   "execution_count": null,
   "outputs": [],
   "source": [
    "def kmeans_plot_clusters_selection(dataset: pd.DataFrame, max_clusters: int = 10):\n",
    "    dataset = np.array(dataset)\n",
    "    silhouette_values = []\n",
    "    r2_values = []\n",
    "    min_clusters = 2\n",
    "\n",
    "    for k in np.arange(min_clusters, max_clusters):\n",
    "        model = KMeans(n_clusters=k).fit(dataset)\n",
    "        prediction = model.predict(dataset)\n",
    "        centroids = model.cluster_centers_\n",
    "\n",
    "        silhouette_values += [metrics.silhouette_score(dataset, prediction)]\n",
    "        r2_values += [r2_score(dataset, prediction, centroids)]\n",
    "\n",
    "    fig, ax = plt.subplots(1, 2, figsize=(15, 5))\n",
    "    ax[0].plot(np.arange(min_clusters, max_clusters), silhouette_values, linestyle='-', marker='o')\n",
    "    ax[0].set_xlabel(\"Número de clústeres\")\n",
    "    ax[0].set_ylabel(\"Medida de ancho de silueta\")\n",
    "\n",
    "    ax[1].plot(np.arange(min_clusters, max_clusters), r2_values, linestyle='-', marker='o')\n",
    "    ax[1].set_xlabel(\"Número de clústeres\")\n",
    "    ax[1].set_ylabel(\"Medida de R cuadrado\")\n"
   ],
   "metadata": {
    "collapsed": false,
    "pycharm": {
     "name": "#%%\n"
    }
   }
  },
  {
   "cell_type": "markdown",
   "source": [
    "# Análisis dataset extrínseca\n",
    "## Algoritmos"
   ],
   "metadata": {
    "collapsed": false
   }
  },
  {
   "cell_type": "markdown",
   "source": [
    "\"\"\"  #    \n",
    "### Algoritmo k-means\n",
    "#### Selección del número de clusters\n",
    "\n",
    "A fin de implementar el modelo de K-Medios, comencemos por determinar la cantidad óptima de centroides a utilizar a partir del Método del Codo.\n",
    "\n",
    "\"\"\"  #"
   ],
   "metadata": {
    "collapsed": false
   }
  },
  {
   "cell_type": "code",
   "execution_count": null,
   "outputs": [],
   "source": [
    "kmeans_plot_clusters_selection(extrinsic_dataset)"
   ],
   "metadata": {
    "collapsed": false,
    "pycharm": {
     "name": "#%%\n"
    }
   }
  },
  {
   "cell_type": "markdown",
   "source": [
    "\"\"\"  #    \n",
    "Según esta técnica, sería recomendable usar entre 5 y 6 clusters. Nuestro dataset viene con 6 clusters.\n",
    "\n",
    "\"\"\"  #"
   ],
   "metadata": {
    "collapsed": false
   }
  },
  {
   "cell_type": "markdown",
   "source": [
    "#### Ejecución del algoritmo"
   ],
   "metadata": {
    "collapsed": false
   }
  },
  {
   "cell_type": "code",
   "execution_count": null,
   "outputs": [],
   "source": [],
   "metadata": {
    "collapsed": false,
    "pycharm": {
     "name": "#%%\n"
    }
   }
  },
  {
   "cell_type": "markdown",
   "source": [
    "### Algoritmo 2"
   ],
   "metadata": {
    "collapsed": false
   }
  },
  {
   "cell_type": "code",
   "execution_count": null,
   "outputs": [],
   "source": [],
   "metadata": {
    "collapsed": false,
    "pycharm": {
     "name": "#%%\n"
    }
   }
  },
  {
   "cell_type": "markdown",
   "source": [
    "### Algoritmo 3"
   ],
   "metadata": {
    "collapsed": false
   }
  },
  {
   "cell_type": "code",
   "execution_count": null,
   "outputs": [],
   "source": [],
   "metadata": {
    "collapsed": false,
    "pycharm": {
     "name": "#%%\n"
    }
   }
  },
  {
   "cell_type": "markdown",
   "source": [
    "### Algoritmo 4"
   ],
   "metadata": {
    "collapsed": false
   }
  },
  {
   "cell_type": "code",
   "execution_count": null,
   "outputs": [],
   "source": [],
   "metadata": {
    "collapsed": false,
    "pycharm": {
     "name": "#%%\n"
    }
   }
  },
  {
   "cell_type": "markdown",
   "source": [
    "### Algritmo 5"
   ],
   "metadata": {
    "collapsed": false
   }
  },
  {
   "cell_type": "code",
   "execution_count": null,
   "outputs": [],
   "source": [],
   "metadata": {
    "collapsed": false,
    "pycharm": {
     "name": "#%%\n"
    }
   }
  },
  {
   "cell_type": "markdown",
   "source": [
    "## Comparación algoritmos"
   ],
   "metadata": {
    "collapsed": false
   }
  },
  {
   "cell_type": "code",
   "execution_count": null,
   "outputs": [],
   "source": [],
   "metadata": {
    "collapsed": false,
    "pycharm": {
     "name": "#%%\n"
    }
   }
  },
  {
   "cell_type": "markdown",
   "source": [
    "# Análisis dataset intrínseca\n",
    "## Algoritmos"
   ],
   "metadata": {
    "collapsed": false
   }
  },
  {
   "cell_type": "markdown",
   "source": [
    "\"\"\"  #    \n",
    "### Algoritmo k-means\n",
    "#### Selección del número de clusters\n",
    "\n",
    "A fin de implementar el modelo de K-Medios, comencemos por determinar la cantidad óptima de centroides a utilizar a partir del Método del Codo.\n",
    "\n",
    "\"\"\"  #"
   ],
   "metadata": {
    "collapsed": false
   }
  },
  {
   "cell_type": "code",
   "execution_count": null,
   "outputs": [],
   "source": [
    "kmeans_plot_clusters_selection(intrinsic_dataset)"
   ],
   "metadata": {
    "collapsed": false,
    "pycharm": {
     "name": "#%%\n"
    }
   }
  },
  {
   "cell_type": "markdown",
   "source": [
    "\"\"\"  #    \n",
    "Según el procedimiento del codo, escogeríamos entre 5 y 7 clusters\n",
    "\n",
    "\"\"\"  #"
   ],
   "metadata": {
    "collapsed": false
   }
  },
  {
   "cell_type": "markdown",
   "source": [
    "#### Ejecución del algoritmo"
   ],
   "metadata": {
    "collapsed": false
   }
  },
  {
   "cell_type": "code",
   "execution_count": null,
   "outputs": [],
   "source": [
    "# Ejecutamos el algoritmo para 5 clusters y obtenemos las etiquetas y los centroids\n",
    "kmeans = KMeans(n_clusters=7).fit(intrinsic_dataset)\n",
    "ke\n",
    "centroids = kmeans.cluster_centers_\n",
    "print('Los centros resultantes son:')\n",
    "display(kmeans)\n",
    "display(centroids)\n",
    "\n",
    "#plot_dataset(intrinsic_dataset, centroids)"
   ],
   "metadata": {
    "collapsed": false,
    "pycharm": {
     "name": "#%%\n"
    }
   }
  },
  {
   "cell_type": "markdown",
   "source": [
    "### Algoritmo 2"
   ],
   "metadata": {
    "collapsed": false
   }
  },
  {
   "cell_type": "code",
   "execution_count": null,
   "outputs": [],
   "source": [],
   "metadata": {
    "collapsed": false,
    "pycharm": {
     "name": "#%%\n"
    }
   }
  },
  {
   "cell_type": "markdown",
   "source": [
    "### Algoritmo 3"
   ],
   "metadata": {
    "collapsed": false
   }
  },
  {
   "cell_type": "code",
   "execution_count": null,
   "outputs": [],
   "source": [],
   "metadata": {
    "collapsed": false,
    "pycharm": {
     "name": "#%%\n"
    }
   }
  },
  {
   "cell_type": "markdown",
   "source": [
    "### Algoritmo 4"
   ],
   "metadata": {
    "collapsed": false
   }
  },
  {
   "cell_type": "code",
   "execution_count": null,
   "outputs": [],
   "source": [],
   "metadata": {
    "collapsed": false,
    "pycharm": {
     "name": "#%%\n"
    }
   }
  },
  {
   "cell_type": "markdown",
   "source": [
    "### Algoritmo 5"
   ],
   "metadata": {
    "collapsed": false
   }
  },
  {
   "cell_type": "code",
   "execution_count": null,
   "outputs": [],
   "source": [],
   "metadata": {
    "collapsed": false,
    "pycharm": {
     "name": "#%%\n"
    }
   }
  },
  {
   "cell_type": "markdown",
   "source": [
    "## Comparación algoritmos"
   ],
   "metadata": {
    "collapsed": false
   }
  },
  {
   "cell_type": "code",
   "execution_count": null,
   "outputs": [],
   "source": [],
   "metadata": {
    "collapsed": false,
    "pycharm": {
     "name": "#%%\n"
    }
   }
  },
  {
   "cell_type": "markdown",
   "source": [
    "# Conclusión"
   ],
   "metadata": {
    "collapsed": false
   }
  }
 ],
 "metadata": {
  "kernelspec": {
   "display_name": "Python 3",
   "language": "python",
   "name": "python3"
  },
  "language_info": {
   "codemirror_mode": {
    "name": "ipython",
    "version": 3
   },
   "file_extension": ".py",
   "mimetype": "text/x-python",
   "name": "python",
   "nbconvert_exporter": "python",
   "pygments_lexer": "ipython3",
   "version": "3.7.4"
  },
  "pycharm": {
   "stem_cell": {
    "cell_type": "raw",
    "source": [],
    "metadata": {
     "collapsed": false
    }
   }
  }
 },
 "nbformat": 4,
 "nbformat_minor": 2
}